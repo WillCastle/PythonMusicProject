{
 "cells": [
  {
   "attachments": {
    "image.png": {
     "image/png": "[encoded data removed]"
    }
   },
   "cell_type": "markdown",
   "metadata": {},
   "source": [
    "## Artist Name: f(u,N,k)tioN\n",
    "## Artist Name: f(U,N,K,t,i,o,n)\n",
    "## Artist Name: F(u,N,k)tion\n",
    "## Album Name: Derivative\n",
    "\n",
    "## Attempt to Write Music from Scratch in Python\n",
    "\n",
    "#### Ideas: \n",
    " - functions like transpose\n",
    " - designer waveforms\n",
    " - mathematical expressions (lossless, scale to any quality?)\n",
    " - volume profiles (attack, sustain etc) - these are called envelopes\n",
    " - tracks are columns in a dataframe? rows is number of samples (play each row in sequence to play the piece)\n",
    " - analyse songs with ML\n",
    " - reconstruct some real songs (automatically?)\n",
    " - turn computer keyboard into realtime instrument with record capability, custom keybindings\n",
    " - allow input of samples from real tunes\n",
    " - fourier analysis\n",
    " - train NN or similar on samples of a sound type eg brass, then use to generate brass synths\n",
    " - launchpad keyboard functionality, try to do hydraulic II by Dimension with loops?\n",
    " - probabilistic music?\n",
    "\n",
    "'FLAC supports from 4 to 32 bits per sample. Currently the reference encoder and decoders only support up to 24 bits per sample. Total samples in stream. 'Samples' means inter-channel sample, i.e. one second of 44.1Khz audio will have 44100 samples regardless of the number of channels.'\n",
    "\n",
    " \\- xiph.org\n",
    "\n",
    "'The human ear can nominally hear sounds in the range 20 Hz (0.02 kHz) to 20,000 Hz (20 kHz). ... Frequency resolution of the ear is about 3.6 Hz within the octave of 1000–2000 Hz. That is, changes in pitch larger than 3.6 Hz can be perceived in a clinical setting.'\n",
    "\n",
    "\\- https://en.wikipedia.org/wiki/Psychoacoustics\n",
    "\n",
    "#### Conventions\n",
    "- lengths are in samples, durations are in seconds.\n",
    "\n",
    "#### Song Idea: Typhon\n",
    "- anagram of python, convenient for a song written in python\n",
    "- ancient Greek titan, 'Typhon was known as the father of all monsters. He was like a fire-breathing dragon with 100 heads, and he never slept.'\n",
    "- 'The Greek poets described Typhon as “terrible, outrageous, and lawless,” “fell and cruel,” “strong and tireless,” and “the greatest plague on men and gods.” Without a doubt, he was the biggest bully in Greek mythology—and there wasn't a kind or merciful bone in his body.'\n",
    "- son of Gaia (Earth) and Tartarus (Hell)\n",
    "- defeated by zeus and imprisoned in Tartarus (the place) or possibly under mount Etna\n",
    "- father of cerberus, hydra and chimaera\n",
    "- monstrous serpentine giant, associated with volcanoes, hurricanes/typhoons (able to cause them with his wings)\n",
    "- symbol is a simplified hurricane:\n",
    "\n",
    "![image.png](attachment:image.png)\n",
    "\n",
    "#### Song Idea: Armed Snobbery\n",
    "- album art of man in period dress robbing modern people with a rapier\n",
    "- harpsichord dubstep? or someting similarly ridiculous and contrasting"
   ]
  },
  {
   "cell_type": "code",
   "execution_count": 7,
   "metadata": {},
   "outputs": [],
   "source": [
    "# Imports and settings\n",
    "from sys import getsizeof\n",
    "import numpy as np\n",
    "import pandas as pd\n",
    "pd.options.display.float_format = '{0:g}'.format\n",
    "\n",
    "from matplotlib import pyplot as plt\n",
    "%matplotlib inline\n",
    "\n",
    "import seaborn as sns\n",
    "sns.set_style('darkgrid')\n",
    "\n",
    "from IPython.display import Audio"
   ]
  },
  {
   "cell_type": "code",
   "execution_count": 8,
   "metadata": {},
   "outputs": [],
   "source": [
    "# Global default song parameters\n",
    "\n",
    "# Fundamental\n",
    "def_sample_rate = int(12000) # samples/second, normally between 12000 and 128000\n",
    "def_duration = 210           # seconds\n",
    "def_time_sig = (4, 4)        # (beats/bar, beat note id) e.g. (4, 4)\n",
    "def_bpm = 60                 # beats/minute\n",
    "\n",
    "# Typical bpms:\n",
    "# Dub: 60-90, Hip-hop: 60-100, House: 115-130, Techno/trance: 120-140, Dubstep: 135-145, Drum and bass: 160-180\n",
    "\n",
    "# Derived\n",
    "def_length = round(def_sample_rate * def_duration) # samples\n",
    "def_duration = def_length / def_sample_rate        # seconds\n",
    "def_n_beats = def_duration * (def_bpm / 60)        # beats\n",
    "def_beat_length = round(def_length / def_n_beats)  # samples\n",
    "def_n_beats = def_length / def_beat_length         # beats\n",
    "def_bar_length = def_beat_length * def_time_sig[0] # samples\n",
    "def_n_bars = def_length / def_bar_length           # bars\n",
    "\n",
    "# Note properties\n",
    "def_beats_per_note = (2 * def_time_sig[1]) / (2 ** 1)        # beats\n",
    "def_note_length = int(def_beats_per_note * def_beat_length)  # samples\n",
    "def_note_duration = def_note_length / def_sample_rate        # seconds\n",
    "def_note_template = np.zeros(def_note_length)                # array in sample space\n",
    "def_note_freq = 440                                          # Hz or cycles per second, 440 Hz is A4\n",
    "def_note_ssf = (2 * np.pi * def_note_freq) / def_sample_rate # cycles per sample, 'SSF' is 'Sample Space Frequency'"
   ]
  },
  {
   "cell_type": "code",
   "execution_count": 9,
   "metadata": {},
   "outputs": [
    {
     "name": "stdout",
     "output_type": "stream",
     "text": [
      "fillee =  [ 1  2  3  4  5  6  7  8  9 10]\n",
      "filler =  [1, 8, 27, 64]\n",
      "filled =  [ 1  8 27 64  1  8 27 64  1  8]\n"
     ]
    }
   ],
   "source": [
    "def repeat(target_list, filler_list):\n",
    "    \"\"\"\n",
    "    Function to repeat a list or 1d array untill it has filled the length of a target (template) list or 1d array. Useful \n",
    "    to extend a sample to a required length, e.g. when you have created a sound and want to extend or cut that sound to \n",
    "    be the length of a certain note template. The values in the target list are irrelevant, a list is used instead of just \n",
    "    a length for convenience when matching to existing samples or templates.\n",
    "    \"\"\"\n",
    "    \n",
    "    if type(target_list) != 'list':\n",
    "        \n",
    "        target_list = list(target_list)\n",
    "    \n",
    "    if type(filler_list) != 'list':\n",
    "        \n",
    "        filler_list = list(filler_list)\n",
    "    \n",
    "    whole_lists = int(len(target_list) / len(filler_list))\n",
    "    list_part = round(len(target_list) % len(filler_list))\n",
    "    \n",
    "    return np.array((filler_list * whole_lists) + filler_list[: list_part])\n",
    "\n",
    "# Testing: 'repeat()'\n",
    "# Note: filler can be longer than fillee\n",
    "\n",
    "fillee = np.arange(10) + 1\n",
    "filler = [i ** 3 for i in range(1, 5)]\n",
    "print('fillee = ', fillee)\n",
    "print('filler = ', filler)\n",
    "rep = repeat(fillee, filler)\n",
    "print('filled = ', rep)"
   ]
  },
  {
   "cell_type": "code",
   "execution_count": 10,
   "metadata": {},
   "outputs": [],
   "source": [
    "class song:\n",
    "    \n",
    "    def __init__(self, \n",
    "                 sample_rate = def_sample_rate, \n",
    "                 duration = def_duration, \n",
    "                 time_sig = def_time_sig, \n",
    "                 bpm = def_bpm):\n",
    "        \n",
    "        self.sample_rate = sample_rate # samples/second (Hz)\n",
    "        self.duration = duration       # seconds\n",
    "        self.time_sig = time_sig       # (beats/bar, beat note id) e.g. (4, 4)\n",
    "        self.bpm = bpm                 # beats/minute\n",
    "        \n",
    "        self.length = round(self.sample_rate * self.duration) # samples\n",
    "        self.duration = self.length / self.sample_rate        # seconds\n",
    "        self.n_beats = self.duration * (self.bpm / 60)        # beats\n",
    "        self.beat_length = round(self.length / self.n_beats)  # samples\n",
    "        self.n_beats = self.length / self.beat_length         # beats\n",
    "        self.bar_length = self.beat_length * self.time_sig[0] # samples\n",
    "        self.n_bars = self.length / self.bar_length           # bars\n",
    "        \n",
    "        # Establish a dictionary for different types of wave e.g. sawtooth\n",
    "        self.wavefunctions = dict(square = lambda freq, amp, xs: \n",
    "                                  -1 * (2 * amp) * np.array([int(x / (len(xs) / 2)) % 2 for x in xs]) + (2 * amp), \n",
    "                                  \n",
    "                                  sin = lambda freq, amp, xs: \n",
    "                                  repeat(np.arange(len(xs)), \n",
    "                                         (amp * np.sin(((2 * np.pi * freq) / self.sample_rate) * \n",
    "                                                       np.arange(np.lcm(self.sample_rate, freq))) + amp)))\n",
    "        \n",
    "        # Dictionaries to store created waveforms, volume envelopes, notes and melodies\n",
    "        self.waveforms = dict()\n",
    "        self.envelopes = dict()\n",
    "        self.notes = dict()\n",
    "        self.melodies = dict()\n",
    "        \n",
    "        # Creates tracks to index by sample, bar and beat\n",
    "        sample_ns = [i for i in range(self.length)]\n",
    "        bar_ns = np.array([int(i / self.bar_length) for i in range(self.length)])\n",
    "        beat_ns = np.array([int(i / self.beat_length) for i in range(int(self.length))])        \n",
    "        \n",
    "        # This creates the dataframe that will hold the actual audio data, along with some other useful columns\n",
    "        self.df = pd.DataFrame(dict(sample_ns = sample_ns, \n",
    "                               bar_ns = bar_ns, \n",
    "                               beat_ns = beat_ns))\n",
    "        \n",
    "    def note_info(self):\n",
    "        \"\"\"\n",
    "        Defines properties for the eight standard note types based on song metadata (bpm, time_sig etc).\n",
    "        \"\"\"\n",
    "        \n",
    "        note_types = ['Breve', 'Semibreve', 'Minim', 'Crotchet', 'Quaver', \n",
    "                      'Semiquaver', 'Demisemiquaver', 'Hemidemisemiquaver']\n",
    "\n",
    "        beat_note = note_types[int(np.log2(self.time_sig[1])) + 1]\n",
    "        \n",
    "        note_lengths = [((2 * self.time_sig[1]) / (2 ** i)) * self.beat_length for i in range(len(note_types))]\n",
    "            \n",
    "        note_lengths = pd.Series(data = note_lengths, index = note_types)\n",
    "        note_durations = pd.Series(data = note_lengths / self.sample_rate)\n",
    "        note_beats = pd.Series(data = note_durations * (self.bpm / 60))\n",
    "        note_bars = pd.Series(data = note_beats / self.time_sig[0])\n",
    "        \n",
    "        note_info_df = pd.DataFrame(dict(note_length = note_lengths, \n",
    "                                         note_duration = note_durations, \n",
    "                                         note_beats = note_beats, \n",
    "                                         note_bars = note_bars))\n",
    "        \n",
    "        display(note_info_df\n",
    "                .style.format('{0:g}')\n",
    "                .applymap(lambda val: 'font-weight: bold', \n",
    "                          subset = pd.IndexSlice[note_info_df.index[note_info_df.index == beat_note], :]))\n",
    "        \n",
    "        return note_info_df\n",
    "    \n",
    "    def info(self):\n",
    "        \"\"\"\n",
    "        Reports key information about the song and it's structure.\n",
    "        \"\"\"\n",
    "        \n",
    "        return pd.Series(dict(sample_rate = self.sample_rate, \n",
    "                              duration = self.duration, \n",
    "                              time_sig = str(self.time_sig), \n",
    "                              bpm = self.bpm, \n",
    "                              length = self.length, \n",
    "                              n_bars = self.n_bars, \n",
    "                              n_beats = self.n_beats, \n",
    "                              bar_length = self.bar_length, \n",
    "                              beat_length = self.beat_length, \n",
    "                              n_bytes = getsizeof(self.df)))\n",
    "    \n",
    "    def waveform(self, \n",
    "                 template = def_note_template, \n",
    "                 functions = None, \n",
    "                 rel_lengths = [1], \n",
    "                 param_tuples = [(440, 0.5)], \n",
    "                 name = 'Default', \n",
    "                 graph = 0):\n",
    "        \"\"\"\n",
    "        Used to create either pure or composite waveforms (for example a sine wave that changes to a sawtooth at one third \n",
    "        of its length). Defaults to making a pure sine wave at 440 Hz with a duration of one beat.\n",
    "        \"\"\"\n",
    "        \n",
    "        functions = functions or [self.wavefunctions['sin']]\n",
    "\n",
    "        xs = np.array(range(len(template)))\n",
    "        ys = np.zeros(len(template))\n",
    "\n",
    "        normalised_lengths = [round((rel_length / sum(rel_lengths)) * len(xs)) for rel_length in rel_lengths]\n",
    "        start_idxs = [sum(normalised_lengths[:i]) for i in range(len(normalised_lengths))]\n",
    "\n",
    "        function_n = 0\n",
    "        for function, param_tuple, length, start_idx in zip(functions, param_tuples, normalised_lengths, start_idxs):\n",
    "\n",
    "            section_xs = xs[:length]\n",
    "            section_ys = function(*param_tuple, section_xs)\n",
    "\n",
    "            ys[start_idx: start_idx + length] += section_ys\n",
    "\n",
    "            if graph:\n",
    "\n",
    "                plt.title('Function {}'.format(function_n))\n",
    "                samples_plot(section_ys)\n",
    "\n",
    "            function_n += 1\n",
    "        \n",
    "        self.waves[name] = ys\n",
    "        \n",
    "        if graph:\n",
    "\n",
    "            plt.title('Combined Waveform: {}'.format(name))\n",
    "            samples_plot(ys)\n",
    "\n",
    "        return ys\n",
    "    \n",
    "    def spectrum(self, track):\n",
    "        \n",
    "        sample_rate = self.sample_rate\n",
    "        \n",
    "        #whole_cycles_track = track[: int(sample_rate / )]\n",
    "        \n",
    "        frequencies = np.arange(int(len(track) / 2)) * (sample_rate / len(track))\n",
    "        amplitudes = abs(np.fft.fft(track - np.mean(track)) / len(track))[range(int(len(track) / 2))]\n",
    "        \n",
    "        fundamental = np.argmax(amplitudes) * (sample_rate / len(track))\n",
    "\n",
    "        return (frequencies, amplitudes, fundamental)\n",
    "    \n",
    "    def samples_plot(self, track, show_spec = True):\n",
    "        \n",
    "        sample_rate = self.sample_rate\n",
    "        spec = self.spectrum(track)\n",
    "        \n",
    "        if show_spec:\n",
    "            \n",
    "            fig, ax = plt.subplots(1, 2, constrained_layout = True, figsize = (16, 8))\n",
    "            \n",
    "            ax[1].plot(spec[0], spec[1], 'k')\n",
    "            ax[1].set_xlabel('Frequency (Hz)')\n",
    "            ax[1].set_title('Frequency Domain')\n",
    "            ax[1].set_xlim(0, min(sample_rate / 2, 20000))\n",
    "            \n",
    "        else:\n",
    "            \n",
    "            fig, ax = plt.subplots(constrained_layout = True)\n",
    "            \n",
    "            ax = [ax]\n",
    "        \n",
    "        def samples2secs(samples):\n",
    "\n",
    "            return  samples / sample_rate\n",
    "\n",
    "        def secs2samples(secs):\n",
    "\n",
    "            return sample_rate * secs\n",
    "        \n",
    "        ax[0].plot(np.arange(len(track)), track, '-r+', label = 'f = {0:g} Hz'.format(spec[2]))\n",
    "        ax[0].plot(np.arange(len(track)), (track * 0) + (max(track) / 2), 'k', \n",
    "                   label = 'Half Amplitude = {:.3g}'.format((max(track) / 2)))\n",
    "        ax[0].plot(np.arange(len(track)), (track * 0) + np.mean(track), 'b--', \n",
    "                   label = 'Mean Level = {:.3g}'.format(np.mean(track)))\n",
    "        secax = ax[0].secondary_xaxis('top', functions = (samples2secs, secs2samples))\n",
    "        ax[0].set_ylim(0, 1.1)\n",
    "        ax[0].legend(loc = 1)\n",
    "        ax[0].set_title('Time Domain')\n",
    "        ax[0].set_xlabel('Samples')\n",
    "        secax.set_xlabel('Time (Seconds)')\n",
    "        \n",
    "        return ax"
   ]
  },
  {
   "cell_type": "code",
   "execution_count": 11,
   "metadata": {},
   "outputs": [
    {
     "name": "stdout",
     "output_type": "stream",
     "text": [
      "sample_rate       12000\n",
      "duration            210\n",
      "time_sig         (4, 4)\n",
      "bpm                  60\n",
      "length          2520000\n",
      "n_bars             52.5\n",
      "n_beats             210\n",
      "bar_length        48000\n",
      "beat_length       12000\n",
      "n_bytes        40320144\n",
      "dtype: object\n"
     ]
    },
    {
     "data": {
      "text/html": [
       "<style  type=\"text/css\" >\n",
       "    #T_f7cd2d7b_d682_11ea_bd06_0028f8a06e18row3_col0 {\n",
       "            font-weight:  bold;\n",
       "        }    #T_f7cd2d7b_d682_11ea_bd06_0028f8a06e18row3_col1 {\n",
       "            font-weight:  bold;\n",
       "        }    #T_f7cd2d7b_d682_11ea_bd06_0028f8a06e18row3_col2 {\n",
       "            font-weight:  bold;\n",
       "        }    #T_f7cd2d7b_d682_11ea_bd06_0028f8a06e18row3_col3 {\n",
       "            font-weight:  bold;\n",
       "        }</style><table id=\"T_f7cd2d7b_d682_11ea_bd06_0028f8a06e18\" ><thead>    <tr>        <th class=\"blank level0\" ></th>        <th class=\"col_heading level0 col0\" >note_length</th>        <th class=\"col_heading level0 col1\" >note_duration</th>        <th class=\"col_heading level0 col2\" >note_beats</th>        <th class=\"col_heading level0 col3\" >note_bars</th>    </tr></thead><tbody>\n",
       "                <tr>\n",
       "                        <th id=\"T_f7cd2d7b_d682_11ea_bd06_0028f8a06e18level0_row0\" class=\"row_heading level0 row0\" >Breve</th>\n",
       "                        <td id=\"T_f7cd2d7b_d682_11ea_bd06_0028f8a06e18row0_col0\" class=\"data row0 col0\" >96000</td>\n",
       "                        <td id=\"T_f7cd2d7b_d682_11ea_bd06_0028f8a06e18row0_col1\" class=\"data row0 col1\" >8</td>\n",
       "                        <td id=\"T_f7cd2d7b_d682_11ea_bd06_0028f8a06e18row0_col2\" class=\"data row0 col2\" >8</td>\n",
       "                        <td id=\"T_f7cd2d7b_d682_11ea_bd06_0028f8a06e18row0_col3\" class=\"data row0 col3\" >2</td>\n",
       "            </tr>\n",
       "            <tr>\n",
       "                        <th id=\"T_f7cd2d7b_d682_11ea_bd06_0028f8a06e18level0_row1\" class=\"row_heading level0 row1\" >Semibreve</th>\n",
       "                        <td id=\"T_f7cd2d7b_d682_11ea_bd06_0028f8a06e18row1_col0\" class=\"data row1 col0\" >48000</td>\n",
       "                        <td id=\"T_f7cd2d7b_d682_11ea_bd06_0028f8a06e18row1_col1\" class=\"data row1 col1\" >4</td>\n",
       "                        <td id=\"T_f7cd2d7b_d682_11ea_bd06_0028f8a06e18row1_col2\" class=\"data row1 col2\" >4</td>\n",
       "                        <td id=\"T_f7cd2d7b_d682_11ea_bd06_0028f8a06e18row1_col3\" class=\"data row1 col3\" >1</td>\n",
       "            </tr>\n",
       "            <tr>\n",
       "                        <th id=\"T_f7cd2d7b_d682_11ea_bd06_0028f8a06e18level0_row2\" class=\"row_heading level0 row2\" >Minim</th>\n",
       "                        <td id=\"T_f7cd2d7b_d682_11ea_bd06_0028f8a06e18row2_col0\" class=\"data row2 col0\" >24000</td>\n",
       "                        <td id=\"T_f7cd2d7b_d682_11ea_bd06_0028f8a06e18row2_col1\" class=\"data row2 col1\" >2</td>\n",
       "                        <td id=\"T_f7cd2d7b_d682_11ea_bd06_0028f8a06e18row2_col2\" class=\"data row2 col2\" >2</td>\n",
       "                        <td id=\"T_f7cd2d7b_d682_11ea_bd06_0028f8a06e18row2_col3\" class=\"data row2 col3\" >0.5</td>\n",
       "            </tr>\n",
       "            <tr>\n",
       "                        <th id=\"T_f7cd2d7b_d682_11ea_bd06_0028f8a06e18level0_row3\" class=\"row_heading level0 row3\" >Crotchet</th>\n",
       "                        <td id=\"T_f7cd2d7b_d682_11ea_bd06_0028f8a06e18row3_col0\" class=\"data row3 col0\" >12000</td>\n",
       "                        <td id=\"T_f7cd2d7b_d682_11ea_bd06_0028f8a06e18row3_col1\" class=\"data row3 col1\" >1</td>\n",
       "                        <td id=\"T_f7cd2d7b_d682_11ea_bd06_0028f8a06e18row3_col2\" class=\"data row3 col2\" >1</td>\n",
       "                        <td id=\"T_f7cd2d7b_d682_11ea_bd06_0028f8a06e18row3_col3\" class=\"data row3 col3\" >0.25</td>\n",
       "            </tr>\n",
       "            <tr>\n",
       "                        <th id=\"T_f7cd2d7b_d682_11ea_bd06_0028f8a06e18level0_row4\" class=\"row_heading level0 row4\" >Quaver</th>\n",
       "                        <td id=\"T_f7cd2d7b_d682_11ea_bd06_0028f8a06e18row4_col0\" class=\"data row4 col0\" >6000</td>\n",
       "                        <td id=\"T_f7cd2d7b_d682_11ea_bd06_0028f8a06e18row4_col1\" class=\"data row4 col1\" >0.5</td>\n",
       "                        <td id=\"T_f7cd2d7b_d682_11ea_bd06_0028f8a06e18row4_col2\" class=\"data row4 col2\" >0.5</td>\n",
       "                        <td id=\"T_f7cd2d7b_d682_11ea_bd06_0028f8a06e18row4_col3\" class=\"data row4 col3\" >0.125</td>\n",
       "            </tr>\n",
       "            <tr>\n",
       "                        <th id=\"T_f7cd2d7b_d682_11ea_bd06_0028f8a06e18level0_row5\" class=\"row_heading level0 row5\" >Semiquaver</th>\n",
       "                        <td id=\"T_f7cd2d7b_d682_11ea_bd06_0028f8a06e18row5_col0\" class=\"data row5 col0\" >3000</td>\n",
       "                        <td id=\"T_f7cd2d7b_d682_11ea_bd06_0028f8a06e18row5_col1\" class=\"data row5 col1\" >0.25</td>\n",
       "                        <td id=\"T_f7cd2d7b_d682_11ea_bd06_0028f8a06e18row5_col2\" class=\"data row5 col2\" >0.25</td>\n",
       "                        <td id=\"T_f7cd2d7b_d682_11ea_bd06_0028f8a06e18row5_col3\" class=\"data row5 col3\" >0.0625</td>\n",
       "            </tr>\n",
       "            <tr>\n",
       "                        <th id=\"T_f7cd2d7b_d682_11ea_bd06_0028f8a06e18level0_row6\" class=\"row_heading level0 row6\" >Demisemiquaver</th>\n",
       "                        <td id=\"T_f7cd2d7b_d682_11ea_bd06_0028f8a06e18row6_col0\" class=\"data row6 col0\" >1500</td>\n",
       "                        <td id=\"T_f7cd2d7b_d682_11ea_bd06_0028f8a06e18row6_col1\" class=\"data row6 col1\" >0.125</td>\n",
       "                        <td id=\"T_f7cd2d7b_d682_11ea_bd06_0028f8a06e18row6_col2\" class=\"data row6 col2\" >0.125</td>\n",
       "                        <td id=\"T_f7cd2d7b_d682_11ea_bd06_0028f8a06e18row6_col3\" class=\"data row6 col3\" >0.03125</td>\n",
       "            </tr>\n",
       "            <tr>\n",
       "                        <th id=\"T_f7cd2d7b_d682_11ea_bd06_0028f8a06e18level0_row7\" class=\"row_heading level0 row7\" >Hemidemisemiquaver</th>\n",
       "                        <td id=\"T_f7cd2d7b_d682_11ea_bd06_0028f8a06e18row7_col0\" class=\"data row7 col0\" >750</td>\n",
       "                        <td id=\"T_f7cd2d7b_d682_11ea_bd06_0028f8a06e18row7_col1\" class=\"data row7 col1\" >0.0625</td>\n",
       "                        <td id=\"T_f7cd2d7b_d682_11ea_bd06_0028f8a06e18row7_col2\" class=\"data row7 col2\" >0.0625</td>\n",
       "                        <td id=\"T_f7cd2d7b_d682_11ea_bd06_0028f8a06e18row7_col3\" class=\"data row7 col3\" >0.015625</td>\n",
       "            </tr>\n",
       "    </tbody></table>"
      ],
      "text/plain": [
       "<pandas.io.formats.style.Styler at 0x277401e5970>"
      ]
     },
     "metadata": {},
     "output_type": "display_data"
    }
   ],
   "source": [
    "# Establishing a 'song' object and reporting some of its properties\n",
    "my_song = song()\n",
    "my_song_info = my_song.info()\n",
    "print(my_song_info)\n",
    "my_notes = my_song.note_info()"
   ]
  },
  {
   "cell_type": "code",
   "execution_count": 12,
   "metadata": {},
   "outputs": [
    {
     "ename": "AttributeError",
     "evalue": "'song' object has no attribute 'waves'",
     "output_type": "error",
     "traceback": [
      "\u001b[1;31m---------------------------------------------------------------------------\u001b[0m",
      "\u001b[1;31mAttributeError\u001b[0m                            Traceback (most recent call last)",
      "\u001b[1;32m<ipython-input-12-2b648d1454aa>\u001b[0m in \u001b[0;36m<module>\u001b[1;34m\u001b[0m\n\u001b[1;32m----> 1\u001b[1;33m \u001b[0mmy_plot_sample\u001b[0m \u001b[1;33m=\u001b[0m \u001b[0mmy_song\u001b[0m\u001b[1;33m.\u001b[0m\u001b[0mwaveform\u001b[0m\u001b[1;33m(\u001b[0m\u001b[0mparam_tuples\u001b[0m \u001b[1;33m=\u001b[0m \u001b[1;33m[\u001b[0m\u001b[1;33m(\u001b[0m\u001b[1;36m40\u001b[0m\u001b[1;33m,\u001b[0m \u001b[1;36m0.5\u001b[0m\u001b[1;33m)\u001b[0m\u001b[1;33m]\u001b[0m\u001b[1;33m,\u001b[0m \u001b[0mtemplate\u001b[0m \u001b[1;33m=\u001b[0m \u001b[0mnp\u001b[0m\u001b[1;33m.\u001b[0m\u001b[0mzeros\u001b[0m\u001b[1;33m(\u001b[0m\u001b[0mint\u001b[0m\u001b[1;33m(\u001b[0m\u001b[0mmy_notes\u001b[0m\u001b[1;33m.\u001b[0m\u001b[0mnote_length\u001b[0m\u001b[1;33m[\u001b[0m\u001b[1;34m'Crotchet'\u001b[0m\u001b[1;33m]\u001b[0m\u001b[1;33m)\u001b[0m\u001b[1;33m)\u001b[0m\u001b[1;33m)\u001b[0m\u001b[1;33m\u001b[0m\u001b[1;33m\u001b[0m\u001b[0m\n\u001b[0m\u001b[0;32m      2\u001b[0m \u001b[1;31m#my_plot_sample += my_song.waveform(param_tuples = [(30, 0.5)], template = np.zeros(int(my_notes.note_length['Quaver'])))\u001b[0m\u001b[1;33m\u001b[0m\u001b[1;33m\u001b[0m\u001b[1;33m\u001b[0m\u001b[0m\n\u001b[0;32m      3\u001b[0m \u001b[1;31m#my_plot_sample = my_plot_sample / (max(my_plot_sample) - min(my_plot_sample))\u001b[0m\u001b[1;33m\u001b[0m\u001b[1;33m\u001b[0m\u001b[1;33m\u001b[0m\u001b[0m\n\u001b[0;32m      4\u001b[0m \u001b[0mmy_plot\u001b[0m \u001b[1;33m=\u001b[0m \u001b[0mmy_song\u001b[0m\u001b[1;33m.\u001b[0m\u001b[0msamples_plot\u001b[0m\u001b[1;33m(\u001b[0m\u001b[0mmy_plot_sample\u001b[0m\u001b[1;33m)\u001b[0m\u001b[1;33m\u001b[0m\u001b[1;33m\u001b[0m\u001b[0m\n",
      "\u001b[1;32m<ipython-input-10-b6baac704e5d>\u001b[0m in \u001b[0;36mwaveform\u001b[1;34m(self, template, functions, rel_lengths, param_tuples, name, graph)\u001b[0m\n\u001b[0;32m    117\u001b[0m             \u001b[0mfunction_n\u001b[0m \u001b[1;33m+=\u001b[0m \u001b[1;36m1\u001b[0m\u001b[1;33m\u001b[0m\u001b[1;33m\u001b[0m\u001b[0m\n\u001b[0;32m    118\u001b[0m \u001b[1;33m\u001b[0m\u001b[0m\n\u001b[1;32m--> 119\u001b[1;33m         \u001b[0mself\u001b[0m\u001b[1;33m.\u001b[0m\u001b[0mwaves\u001b[0m\u001b[1;33m[\u001b[0m\u001b[0mname\u001b[0m\u001b[1;33m]\u001b[0m \u001b[1;33m=\u001b[0m \u001b[0mys\u001b[0m\u001b[1;33m\u001b[0m\u001b[1;33m\u001b[0m\u001b[0m\n\u001b[0m\u001b[0;32m    120\u001b[0m \u001b[1;33m\u001b[0m\u001b[0m\n\u001b[0;32m    121\u001b[0m         \u001b[1;32mif\u001b[0m \u001b[0mgraph\u001b[0m\u001b[1;33m:\u001b[0m\u001b[1;33m\u001b[0m\u001b[1;33m\u001b[0m\u001b[0m\n",
      "\u001b[1;31mAttributeError\u001b[0m: 'song' object has no attribute 'waves'"
     ]
    }
   ],
   "source": [
    "my_plot_sample = my_song.waveform(param_tuples = [(40, 0.5)], template = np.zeros(int(my_notes.note_length['Crotchet'])))\n",
    "#my_plot_sample += my_song.waveform(param_tuples = [(30, 0.5)], template = np.zeros(int(my_notes.note_length['Quaver'])))\n",
    "#my_plot_sample = my_plot_sample / (max(my_plot_sample) - min(my_plot_sample))\n",
    "my_plot = my_song.samples_plot(my_plot_sample)"
   ]
  },
  {
   "cell_type": "code",
   "execution_count": 11,
   "metadata": {},
   "outputs": [
    {
     "name": "stdout",
     "output_type": "stream",
     "text": [
      "[ 343  487  541  613  667  703  811  847  865  901  919  937  955  973\n",
      "  991 1009 1027 1045 1063 1081 1099 1117 2000 2847 2919 2973 3063 3081\n",
      " 4000 4973 5045 5063 6991 8000]\n",
      "1.5\n"
     ]
    }
   ],
   "source": [
    "def find_fundamental(track):\n",
    "    \n",
    "    sample_rate = def_sample_rate\n",
    "    #sample_rate = self.sample_rate\n",
    "    \n",
    "    track -= (min(track) + ((max(track) - min(track)) / 2))\n",
    "    \n",
    "    zero_crossings = np.where(np.diff(np.sign(track)))[0]\n",
    "    grads = np.round(np.diff(track)[zero_crossings], 16)\n",
    "    grad_matches = [list(np.where(grads == grads[i])[0]) for i in range(len(grads))]\n",
    "    \n",
    "    unique_grad_matches = {}\n",
    "    for grad_match in grad_matches:\n",
    "        \n",
    "        unique_grad_matches.setdefault(tuple(grad_match))\n",
    "\n",
    "    grad_matches = list(unique_grad_matches.keys())\n",
    "    #print(grad_matches)\n",
    "    \n",
    "    consec_pairs = [[(grad_match[i - 1], grad_match[i]) for i in range(1, len(grad_match))] for grad_match in grad_matches]\n",
    "    #first_twos = [grad_match[:2] for grad_match in grad_matches]\n",
    "    #print(consec_pairs)\n",
    "    crossing_idxs = [[list(zero_crossings[list(pair)]) for pair in grad_match] for grad_match in consec_pairs]\n",
    "    crossing_idxs = [pair for pair_set in crossing_idxs for pair in pair_set]\n",
    "    #crossing_idxs = [zero_crossings[list(first_two)] for first_two in first_twos]\n",
    "    #print(crossing_idxs)\n",
    "    #print(len(crossing_idxs))\n",
    "    wavelengths = np.unique([crossing_idx[1] - crossing_idx[0] for crossing_idx in crossing_idxs])\n",
    "    print(wavelengths)\n",
    "    fundamental_length = max(wavelengths) # samples\n",
    "    fundamental_period = fundamental_length / sample_rate # seconds\n",
    "    fundamental_frequency = 1 / fundamental_period # Hz\n",
    "    print(fundamental_frequency)\n",
    "    \n",
    "    #print([[grad_match[n] - grad_match[n - 1] for n in range(1, len(grad_match))] for grad_match in grad_matches])\n",
    "    \n",
    "    return crossing_idxs\n",
    "\n",
    "temp = find_fundamental(my_plot_sample)\n",
    "#temp[1]"
   ]
  },
  {
   "cell_type": "code",
   "execution_count": 241,
   "metadata": {},
   "outputs": [
    {
     "name": "stdout",
     "output_type": "stream",
     "text": [
      "[(0, 6, 12, 18, 24), (1, 7, 13, 19, 25), (2, 8, 14, 20, 26), (3, 9, 15, 21, 27), (4, 10, 16, 22, 28), (5, 11, 17, 23, 29)]\n",
      "[(0, 6), (1, 7), (2, 8), (3, 9), (4, 10), (5, 11)]\n",
      "[array([   0, 1200], dtype=int64), array([ 240, 1440], dtype=int64), array([ 480, 1680], dtype=int64), array([ 600, 1800], dtype=int64), array([ 720, 1920], dtype=int64), array([ 960, 2160], dtype=int64)]\n",
      "0.1\n",
      "[[6, 6, 6, 6], [6, 6, 6, 6], [6, 6, 6, 6], [6, 6, 6, 6], [6, 6, 6, 6], [6, 6, 6, 6]]\n"
     ]
    }
   ],
   "source": [
    "def find_fundamental(track):\n",
    "    \n",
    "    sample_rate = def_sample_rate\n",
    "    #sample_rate = self.sample_rate\n",
    "    \n",
    "    track -= (min(track) + ((max(track) - min(track)) / 2))\n",
    "    \n",
    "    zero_crossings = np.where(np.diff(np.sign(track)))[0]\n",
    "    #print(zero_crossings)\n",
    "    grads = np.round(np.diff(track)[zero_crossings], 10)\n",
    "    #print(grads)\n",
    "    grad_matches = [list(np.where(grads == grads[i])[0]) for i in range(len(grads))]\n",
    "    #print(grad_matches)\n",
    "    \n",
    "    unique_grad_matches = {}\n",
    "    for grad_match in grad_matches:\n",
    "        \n",
    "        unique_grad_matches.setdefault(tuple(grad_match))\n",
    "\n",
    "    grad_matches = list(unique_grad_matches.keys())\n",
    "    print(grad_matches)\n",
    "    \n",
    "    first_twos = [grad_match[:2] for grad_match in grad_matches]\n",
    "    print(first_twos)\n",
    "    \n",
    "    crossing_idxs = [zero_crossings[list(first_two)] for first_two in first_twos]\n",
    "    print(crossing_idxs)\n",
    "    wavelengths = [crossing_idx[1] - crossing_idx[0] for crossing_idx in crossing_idxs]\n",
    "    fundamental_length = max(wavelengths)\n",
    "    fundamental_period = fundamental_length / sample_rate\n",
    "    print(fundamental_period)\n",
    "    \n",
    "    print([[grad_match[n] - grad_match[n - 1] for n in range(1, len(grad_match))] for grad_match in grad_matches])\n",
    "    \n",
    "    return grad_matches\n",
    "\n",
    "temp = find_fundamental(my_plot_sample)\n",
    "#temp[1]"
   ]
  },
  {
   "cell_type": "code",
   "execution_count": 211,
   "metadata": {},
   "outputs": [
    {
     "data": {
      "text/plain": [
       "[300, 2100, 3900, 5700, 7500]"
      ]
     },
     "execution_count": 211,
     "metadata": {},
     "output_type": "execute_result"
    }
   ],
   "source": [
    "[l[x] for x in (temp[1])]"
   ]
  },
  {
   "cell_type": "code",
   "execution_count": 163,
   "metadata": {},
   "outputs": [
    {
     "name": "stdout",
     "output_type": "stream",
     "text": [
      "[[0, 2, 4], [1, 3], [0, 2, 4], [1, 3], [0, 2, 4]]\n"
     ]
    },
    {
     "data": {
      "text/plain": [
       "{(0, 2, 4): [1, 1, 1], (1, 3): [1, 1]}"
      ]
     },
     "execution_count": 163,
     "metadata": {},
     "output_type": "execute_result"
    }
   ],
   "source": [
    "Output = {}\n",
    "for lis in find_fundamental(my_plot_sample): \n",
    "    Output.setdefault(tuple(lis), list()).append(1) \n",
    "\n",
    "Output"
   ]
  },
  {
   "cell_type": "code",
   "execution_count": 181,
   "metadata": {},
   "outputs": [
    {
     "name": "stdout",
     "output_type": "stream",
     "text": [
      "[[0, 2, 4], [1, 3], [0, 2, 4], [1, 3], [0, 2, 4]]\n",
      "dict_keys([(0, 2, 4), (1, 3)])\n"
     ]
    },
    {
     "data": {
      "text/plain": [
       "[(0, 2, 4), (1, 3)]"
      ]
     },
     "execution_count": 181,
     "metadata": {},
     "output_type": "execute_result"
    }
   ],
   "source": [
    "Output = {}\n",
    "for lis in find_fundamental(my_plot_sample): \n",
    "    Output.setdefault(tuple(lis))\n",
    "\n",
    "list(Output.keys())"
   ]
  },
  {
   "cell_type": "code",
   "execution_count": 111,
   "metadata": {},
   "outputs": [
    {
     "data": {
      "text/plain": [
       "array([ 1,  2,  3,  4,  5,  1,  7,  8,  9, 10,  1, 12,  3, 14, 15,  1])"
      ]
     },
     "execution_count": 111,
     "metadata": {},
     "output_type": "execute_result"
    }
   ],
   "source": [
    "#vals = np.diff(my_plot_sample)[find_fundamental(my_plot_sample)]\n",
    "vals = [1, 2, 3, 4, 5, 1, 7, 8, 9, 10, 1, 12, 3, 14, 15, 1]\n",
    "np.round(vals, 8)"
   ]
  },
  {
   "cell_type": "code",
   "execution_count": 78,
   "metadata": {},
   "outputs": [
    {
     "data": {
      "text/plain": [
       "[5, 10, 15]"
      ]
     },
     "execution_count": 78,
     "metadata": {},
     "output_type": "execute_result"
    }
   ],
   "source": [
    "[i for i in range(len(vals)) if np.round(vals[i], 8) in np.round(vals[:max(0, i - 1)], 8)]"
   ]
  },
  {
   "cell_type": "code",
   "execution_count": 90,
   "metadata": {},
   "outputs": [
    {
     "data": {
      "text/plain": [
       "array([ 1.,  2.,  3.,  4.,  5., nan,  7.,  8.,  9., 10.,  1., 12., 13.,\n",
       "       14., 15.,  1.])"
      ]
     },
     "execution_count": 90,
     "metadata": {},
     "output_type": "execute_result"
    }
   ],
   "source": [
    "#print(np.where(np.round(vals, 8) == np.round(vals[0], 8))[0])\n",
    "i = 5\n",
    "np.round(list(vals[:i]) + [np.nan] + list(vals[i+1:]), 8)"
   ]
  },
  {
   "cell_type": "code",
   "execution_count": 95,
   "metadata": {},
   "outputs": [
    {
     "data": {
      "text/plain": [
       "[array([ 5, 10, 15], dtype=int64),\n",
       " array([], dtype=int64),\n",
       " array([], dtype=int64),\n",
       " array([], dtype=int64),\n",
       " array([], dtype=int64),\n",
       " array([ 0, 10, 15], dtype=int64),\n",
       " array([], dtype=int64),\n",
       " array([], dtype=int64),\n",
       " array([], dtype=int64),\n",
       " array([], dtype=int64),\n",
       " array([ 0,  5, 15], dtype=int64),\n",
       " array([], dtype=int64),\n",
       " array([], dtype=int64),\n",
       " array([], dtype=int64),\n",
       " array([], dtype=int64),\n",
       " array([ 0,  5, 10], dtype=int64)]"
      ]
     },
     "execution_count": 95,
     "metadata": {},
     "output_type": "execute_result"
    }
   ],
   "source": [
    "[np.where(np.round(list(vals[:i]) + [np.nan] + list(vals[i+1:]), 8) == np.round(vals[i], 8))[0] for i in range(len(vals))]"
   ]
  },
  {
   "cell_type": "code",
   "execution_count": 99,
   "metadata": {},
   "outputs": [
    {
     "ename": "TypeError",
     "evalue": "unhashable type: 'numpy.ndarray'",
     "output_type": "error",
     "traceback": [
      "\u001b[1;31m---------------------------------------------------------------------------\u001b[0m",
      "\u001b[1;31mTypeError\u001b[0m                                 Traceback (most recent call last)",
      "\u001b[1;32m<ipython-input-99-3c265d38d031>\u001b[0m in \u001b[0;36m<module>\u001b[1;34m\u001b[0m\n\u001b[1;32m----> 1\u001b[1;33m \u001b[0mset\u001b[0m\u001b[1;33m(\u001b[0m\u001b[1;33m[\u001b[0m\u001b[0mnp\u001b[0m\u001b[1;33m.\u001b[0m\u001b[0mwhere\u001b[0m\u001b[1;33m(\u001b[0m\u001b[0mnp\u001b[0m\u001b[1;33m.\u001b[0m\u001b[0mround\u001b[0m\u001b[1;33m(\u001b[0m\u001b[0mvals\u001b[0m\u001b[1;33m,\u001b[0m \u001b[1;36m8\u001b[0m\u001b[1;33m)\u001b[0m \u001b[1;33m==\u001b[0m \u001b[0mnp\u001b[0m\u001b[1;33m.\u001b[0m\u001b[0mround\u001b[0m\u001b[1;33m(\u001b[0m\u001b[0mvals\u001b[0m\u001b[1;33m[\u001b[0m\u001b[0mi\u001b[0m\u001b[1;33m]\u001b[0m\u001b[1;33m,\u001b[0m \u001b[1;36m8\u001b[0m\u001b[1;33m)\u001b[0m\u001b[1;33m)\u001b[0m\u001b[1;33m[\u001b[0m\u001b[1;36m0\u001b[0m\u001b[1;33m]\u001b[0m \u001b[1;32mfor\u001b[0m \u001b[0mi\u001b[0m \u001b[1;32min\u001b[0m \u001b[0mrange\u001b[0m\u001b[1;33m(\u001b[0m\u001b[0mlen\u001b[0m\u001b[1;33m(\u001b[0m\u001b[0mvals\u001b[0m\u001b[1;33m)\u001b[0m\u001b[1;33m)\u001b[0m\u001b[1;33m]\u001b[0m\u001b[1;33m)\u001b[0m\u001b[1;33m\u001b[0m\u001b[1;33m\u001b[0m\u001b[0m\n\u001b[0m",
      "\u001b[1;31mTypeError\u001b[0m: unhashable type: 'numpy.ndarray'"
     ]
    }
   ],
   "source": [
    "set([np.where(np.round(vals, 8) == np.round(vals[i], 8))[0] for i in range(len(vals))])"
   ]
  },
  {
   "cell_type": "code",
   "execution_count": 112,
   "metadata": {},
   "outputs": [
    {
     "name": "stdout",
     "output_type": "stream",
     "text": [
      "[0, 5, 10, 15]\n"
     ]
    }
   ],
   "source": [
    "l = np.unique([list(np.where(np.round(vals, 8) == np.round(vals[i], 8))[0]) for i in range(len(vals))])\n",
    "print(max(l, key=len))"
   ]
  },
  {
   "cell_type": "code",
   "execution_count": 113,
   "metadata": {},
   "outputs": [
    {
     "data": {
      "text/plain": [
       "array([list([0, 5, 10, 15]), list([1]), list([2, 12]), list([3]),\n",
       "       list([4]), list([6]), list([7]), list([8]), list([9]), list([11]),\n",
       "       list([13]), list([14])], dtype=object)"
      ]
     },
     "execution_count": 113,
     "metadata": {},
     "output_type": "execute_result"
    }
   ],
   "source": [
    "l"
   ]
  },
  {
   "cell_type": "code",
   "execution_count": 115,
   "metadata": {},
   "outputs": [
    {
     "data": {
      "text/plain": [
       "[[0, 5, 10, 15], [2, 12]]"
      ]
     },
     "execution_count": 115,
     "metadata": {},
     "output_type": "execute_result"
    }
   ],
   "source": [
    "[ele for ele in l if len(ele) > 1]"
   ]
  },
  {
   "cell_type": "code",
   "execution_count": 28,
   "metadata": {},
   "outputs": [
    {
     "data": {
      "text/plain": [
       "[<matplotlib.lines.Line2D at 0x2a88015d400>]"
      ]
     },
     "execution_count": 28,
     "metadata": {},
     "output_type": "execute_result"
    },
    {
     "data": {
      "image/png": "[encoded data removed]",
      "text/plain": [
       "<Figure size 432x288 with 1 Axes>"
      ]
     },
     "metadata": {},
     "output_type": "display_data"
    }
   ],
   "source": [
    "plt.plot(np.arange(len(np.diff(my_plot_sample))), np.diff(my_plot_sample))"
   ]
  },
  {
   "cell_type": "code",
   "execution_count": 26,
   "metadata": {},
   "outputs": [
    {
     "data": {
      "image/png": "[encoded data removed]",
      "text/plain": [
       "<Figure size 432x288 with 1 Axes>"
      ]
     },
     "metadata": {},
     "output_type": "display_data"
    },
    {
     "ename": "NameError",
     "evalue": "name 'fundamental' is not defined",
     "output_type": "error",
     "traceback": [
      "\u001b[1;31m---------------------------------------------------------------------------\u001b[0m",
      "\u001b[1;31mNameError\u001b[0m                                 Traceback (most recent call last)",
      "\u001b[1;32m<ipython-input-26-b207354ffcfe>\u001b[0m in \u001b[0;36m<module>\u001b[1;34m\u001b[0m\n\u001b[0;32m     12\u001b[0m \u001b[0mplt\u001b[0m\u001b[1;33m.\u001b[0m\u001b[0mplot\u001b[0m\u001b[1;33m(\u001b[0m\u001b[0mmy_spec\u001b[0m\u001b[1;33m[\u001b[0m\u001b[1;36m0\u001b[0m\u001b[1;33m]\u001b[0m\u001b[1;33m,\u001b[0m \u001b[0mmy_spec\u001b[0m\u001b[1;33m[\u001b[0m\u001b[1;36m1\u001b[0m\u001b[1;33m]\u001b[0m\u001b[1;33m)\u001b[0m\u001b[1;33m\u001b[0m\u001b[1;33m\u001b[0m\u001b[0m\n\u001b[0;32m     13\u001b[0m \u001b[0mplt\u001b[0m\u001b[1;33m.\u001b[0m\u001b[0mshow\u001b[0m\u001b[1;33m(\u001b[0m\u001b[1;33m)\u001b[0m\u001b[1;33m\u001b[0m\u001b[1;33m\u001b[0m\u001b[0m\n\u001b[1;32m---> 14\u001b[1;33m \u001b[0mprint\u001b[0m\u001b[1;33m(\u001b[0m\u001b[1;34m'Fundamental frequency: {}'\u001b[0m\u001b[1;33m.\u001b[0m\u001b[0mformat\u001b[0m\u001b[1;33m(\u001b[0m\u001b[0mfundamental\u001b[0m\u001b[1;33m)\u001b[0m\u001b[1;33m)\u001b[0m\u001b[1;33m\u001b[0m\u001b[1;33m\u001b[0m\u001b[0m\n\u001b[0m",
      "\u001b[1;31mNameError\u001b[0m: name 'fundamental' is not defined"
     ]
    }
   ],
   "source": [
    "def spectrum(track):\n",
    "    \n",
    "    frequencies = np.arange(int(len(track) / 2)) * (def_sample_rate / len(track))\n",
    "    amplitudes = abs(np.fft.fft(track - np.mean(track)) / len(track))[range(int(len(track) / 2))]\n",
    "    \n",
    "    fundamental = np.argmax(amplitudes) * (def_sample_rate / len(track))\n",
    "\n",
    "    return (frequencies, amplitudes, fundamental)\n",
    "\n",
    "my_spec = spectrum(my_plot_sample)\n",
    "\n",
    "plt.plot(my_spec[0], my_spec[1])\n",
    "plt.show()\n",
    "print('Fundamental frequency: {}'.format(fundamental))"
   ]
  },
  {
   "cell_type": "code",
   "execution_count": 27,
   "metadata": {},
   "outputs": [
    {
     "name": "stdout",
     "output_type": "stream",
     "text": [
      "Duration: 8.0\n",
      "Fundamental frequency: 440\n",
      "Duration: 4.0\n",
      "Fundamental frequency: 440\n",
      "Duration: 2.0\n",
      "Fundamental frequency: 440\n",
      "Duration: 1.0\n",
      "Fundamental frequency: 440\n",
      "Duration: 0.5\n",
      "Fundamental frequency: 440\n",
      "Duration: 0.25\n",
      "Fundamental frequency: 440\n",
      "Duration: 0.125\n",
      "Fundamental frequency: 440\n",
      "Duration: 0.0625\n",
      "Fundamental frequency: 432\n"
     ]
    }
   ],
   "source": [
    "f = 440\n",
    "sr = 12000\n",
    "#note_durations = [0.25, 0.3333333, 0.5, 1, 2, 2.5, 7, 9, 13, 27, 163, 281]\n",
    "note_durations = [4]\n",
    "\n",
    "for duration in my_notes.note_duration:\n",
    "    \n",
    "    perf = repeat(np.arange(round(duration * sr)), \n",
    "                  (0.5 * np.sin(((2 * np.pi * f) / sr) * np.arange(np.lcm(sr, f))) + 0.5))\n",
    "    \n",
    "    perf_spec = my_song.spectrum(perf)\n",
    "\n",
    "    max_idx = np.argmax(perf_spec[1])\n",
    "    fundamental = max_idx * (sr / len(perf))\n",
    "    print('Duration: {}'.format(duration))\n",
    "    print('Fundamental frequency: {:.4g}'.format(fundamental))\n"
   ]
  },
  {
   "cell_type": "code",
   "execution_count": 295,
   "metadata": {},
   "outputs": [
    {
     "name": "stdout",
     "output_type": "stream",
     "text": [
      "1698\n",
      "1698\n",
      "1697\n",
      "1698\n",
      "1698\n",
      "1698\n",
      "5253\n",
      "1698\n",
      "5253\n",
      "808\n"
     ]
    },
    {
     "data": {
      "text/html": [
       "<div>\n",
       "<style scoped>\n",
       "    .dataframe tbody tr th:only-of-type {\n",
       "        vertical-align: middle;\n",
       "    }\n",
       "\n",
       "    .dataframe tbody tr th {\n",
       "        vertical-align: top;\n",
       "    }\n",
       "\n",
       "    .dataframe thead th {\n",
       "        text-align: right;\n",
       "    }\n",
       "</style>\n",
       "<table border=\"1\" class=\"dataframe\">\n",
       "  <thead>\n",
       "    <tr style=\"text-align: right;\">\n",
       "      <th></th>\n",
       "      <th>frequency</th>\n",
       "      <th>relative_amplitude</th>\n",
       "    </tr>\n",
       "  </thead>\n",
       "  <tbody>\n",
       "    <tr>\n",
       "      <th>0</th>\n",
       "      <td>424.50</td>\n",
       "      <td>0.002797</td>\n",
       "    </tr>\n",
       "    <tr>\n",
       "      <th>1</th>\n",
       "      <td>424.50</td>\n",
       "      <td>0.002797</td>\n",
       "    </tr>\n",
       "    <tr>\n",
       "      <th>2</th>\n",
       "      <td>424.25</td>\n",
       "      <td>0.002763</td>\n",
       "    </tr>\n",
       "    <tr>\n",
       "      <th>3</th>\n",
       "      <td>424.50</td>\n",
       "      <td>0.002797</td>\n",
       "    </tr>\n",
       "    <tr>\n",
       "      <th>4</th>\n",
       "      <td>424.50</td>\n",
       "      <td>0.002797</td>\n",
       "    </tr>\n",
       "    <tr>\n",
       "      <th>5</th>\n",
       "      <td>424.50</td>\n",
       "      <td>0.002797</td>\n",
       "    </tr>\n",
       "    <tr>\n",
       "      <th>6</th>\n",
       "      <td>1313.25</td>\n",
       "      <td>0.000080</td>\n",
       "    </tr>\n",
       "    <tr>\n",
       "      <th>7</th>\n",
       "      <td>424.50</td>\n",
       "      <td>0.002797</td>\n",
       "    </tr>\n",
       "    <tr>\n",
       "      <th>8</th>\n",
       "      <td>1313.25</td>\n",
       "      <td>0.000080</td>\n",
       "    </tr>\n",
       "    <tr>\n",
       "      <th>9</th>\n",
       "      <td>202.00</td>\n",
       "      <td>0.000258</td>\n",
       "    </tr>\n",
       "  </tbody>\n",
       "</table>\n",
       "</div>"
      ],
      "text/plain": [
       "   frequency  relative_amplitude\n",
       "0     424.50            0.002797\n",
       "1     424.50            0.002797\n",
       "2     424.25            0.002763\n",
       "3     424.50            0.002797\n",
       "4     424.50            0.002797\n",
       "5     424.50            0.002797\n",
       "6    1313.25            0.000080\n",
       "7     424.50            0.002797\n",
       "8    1313.25            0.000080\n",
       "9     202.00            0.000258"
      ]
     },
     "execution_count": 295,
     "metadata": {},
     "output_type": "execute_result"
    }
   ],
   "source": [
    "# needs fixing, use turning points to find peaks\n",
    "\n",
    "def components(track, n_largest = 10):\n",
    "    \n",
    "    spec = spectrum(track)[1]\n",
    "    cut_spec = spec\n",
    "    \n",
    "    freqs = np.zeros(n_largest)\n",
    "    rel_amps = np.zeros(n_largest)\n",
    "    peak_index = 0\n",
    "    \n",
    "    for component_n in range(n_largest):\n",
    "        \n",
    "        cut_spec = cut_spec[peak_index + 80:]\n",
    "        \n",
    "        peak_index = np.argmax(cut_spec)\n",
    "        print(peak_index)\n",
    "        \n",
    "        freqs[component_n] = peak_index / 4\n",
    "        rel_amps[component_n] = spec[peak_index] / max(spec)\n",
    "    \n",
    "    return pd.DataFrame(dict(frequency = freqs, relative_amplitude = rel_amps))\n",
    "\n",
    "components(my_plot_sample)"
   ]
  },
  {
   "cell_type": "code",
   "execution_count": 187,
   "metadata": {},
   "outputs": [
    {
     "name": "stdout",
     "output_type": "stream",
     "text": [
      "<class 'numpy.ndarray'>\n"
     ]
    },
    {
     "data": {
      "text/plain": [
       "<matplotlib.axes._subplots.AxesSubplot at 0x1c9533b9e48>"
      ]
     },
     "execution_count": 187,
     "metadata": {},
     "output_type": "execute_result"
    },
    {
     "data": {
      "image/png": "[encoded data removed]",
      "text/plain": [
       "<Figure size 432x288 with 1 Axes>"
      ]
     },
     "metadata": {},
     "output_type": "display_data"
    }
   ],
   "source": [
    "my_square_wave = my_song.waveform(functions = [my_song.wavefunctions['square']], param_tuples = [(440, 0.5)])\n",
    "#my_song.samples_plot(my_square_wave)\n",
    "my_song.samples_plot(my_square_wave[:round(10 * (my_song.sample_rate / 440))])"
   ]
  },
  {
   "cell_type": "code",
   "execution_count": 10,
   "metadata": {},
   "outputs": [
    {
     "name": "stdout",
     "output_type": "stream",
     "text": [
      "2520000\n"
     ]
    },
    {
     "data": {
      "image/png": "[encoded data removed]",
      "text/plain": [
       "<Figure size 432x288 with 1 Axes>"
      ]
     },
     "metadata": {},
     "output_type": "display_data"
    },
    {
     "data": {
      "text/plain": [
       "<matplotlib.axes._subplots.AxesSubplot at 0x242a802e188>"
      ]
     },
     "execution_count": 10,
     "metadata": {},
     "output_type": "execute_result"
    }
   ],
   "source": [
    "my_song.samples_plot(my_song.wavefunctions['square'](0.36, my_song.df.sample_ns))"
   ]
  },
  {
   "cell_type": "code",
   "execution_count": 7,
   "metadata": {},
   "outputs": [
    {
     "data": {
      "text/plain": [
       "dict_keys(['Untitled'])"
      ]
     },
     "execution_count": 7,
     "metadata": {},
     "output_type": "execute_result"
    }
   ],
   "source": [
    "my_song.waves.keys()"
   ]
  },
  {
   "cell_type": "code",
   "execution_count": 67,
   "metadata": {},
   "outputs": [
    {
     "data": {
      "image/png": "[encoded data removed]",
      "text/plain": [
       "<Figure size 432x288 with 1 Axes>"
      ]
     },
     "metadata": {},
     "output_type": "display_data"
    }
   ],
   "source": [
    "freq = 440\n",
    "amp = 0.5\n",
    "xs = np.array(range(round(def_sample_rate / freq)))\n",
    "\n",
    "#ys = np.array([int(x / (((2 * np.pi * freq) / def_sample_rate) * (len(xs) / 2))) % 2 for x in xs])\n",
    "ys = np.array([int(x / (len(xs) / 2)) % 2 for x in xs])\n",
    "ys = (-1 * (2 * amp) * ys) + (2 * amp)\n",
    "\n",
    "plt.plot(xs, ys)\n",
    "plt.show()"
   ]
  },
  {
   "cell_type": "code",
   "execution_count": 8,
   "metadata": {},
   "outputs": [
    {
     "data": {
      "text/plain": [
       "dict_keys(['Untitled', 'my_wave'])"
      ]
     },
     "execution_count": 8,
     "metadata": {},
     "output_type": "execute_result"
    }
   ],
   "source": [
    "my_song.waveform(name = 'my_wave')\n",
    "my_song.waves.keys()"
   ]
  },
  {
   "cell_type": "code",
   "execution_count": 9,
   "metadata": {},
   "outputs": [
    {
     "data": {
      "image/png": "[encoded data removed]",
      "text/plain": [
       "<Figure size 432x288 with 1 Axes>"
      ]
     },
     "metadata": {},
     "output_type": "display_data"
    }
   ],
   "source": [
    "sin_flat = my_song.waveform(np.array(range(14)), \n",
    "                            [(lambda a, b, xs: a * np.sin(b * xs) + a), (lambda a, xs: np.array([a] * len(xs)))], \n",
    "                            [3, 1], \n",
    "                            [(0.5, 1), (0.15, )])\n",
    "\n",
    "samples_plot(sin_flat)"
   ]
  },
  {
   "cell_type": "code",
   "execution_count": 10,
   "metadata": {},
   "outputs": [
    {
     "data": {
      "image/png": "[encoded data removed]",
      "text/plain": [
       "<Figure size 432x288 with 1 Axes>"
      ]
     },
     "metadata": {},
     "output_type": "display_data"
    },
    {
     "data": {
      "image/png": "[encoded data removed]",
      "text/plain": [
       "<Figure size 432x288 with 1 Axes>"
      ]
     },
     "metadata": {},
     "output_type": "display_data"
    },
    {
     "data": {
      "image/png": "[encoded data removed]",
      "text/plain": [
       "<Figure size 432x288 with 1 Axes>"
      ]
     },
     "metadata": {},
     "output_type": "display_data"
    }
   ],
   "source": [
    "cos_sin = my_song.waveform(np.array(range(14)), \n",
    "                           [(lambda a, b, xs: (a * np.cos(b * xs) + a)), \n",
    "                            (lambda a, b, xs: (a * np.sin(b * xs) + a))], \n",
    "                           [1, 1], \n",
    "                           [(0.5, 1), (0.5, 1)], graph = 1)"
   ]
  },
  {
   "cell_type": "code",
   "execution_count": 11,
   "metadata": {},
   "outputs": [
    {
     "data": {
      "text/plain": [
       "dict_keys(['Untitled', 'my_wave'])"
      ]
     },
     "execution_count": 11,
     "metadata": {},
     "output_type": "execute_result"
    }
   ],
   "source": [
    "my_song.waves.keys()"
   ]
  },
  {
   "cell_type": "code",
   "execution_count": 12,
   "metadata": {},
   "outputs": [],
   "source": [
    "my_song.waves['Untitled'] = sin_flat\n",
    "my_song.waves['my_wave'] = cos_sin\n",
    "\n",
    "new_keys = ['sin_flat', 'cos_sin']"
   ]
  },
  {
   "cell_type": "code",
   "execution_count": 13,
   "metadata": {},
   "outputs": [],
   "source": [
    "def rename_dict_keys(dictionary, new_keys):\n",
    "    \n",
    "    return {key.replace(key, new_key): value \n",
    "            for key, value, new_key \n",
    "            in zip(my_song.waves.keys(), my_song.waves.values(), new_keys)}"
   ]
  },
  {
   "cell_type": "code",
   "execution_count": 14,
   "metadata": {},
   "outputs": [],
   "source": [
    "my_song.waves = rename_dict_keys(my_song.waves, new_keys)"
   ]
  },
  {
   "cell_type": "code",
   "execution_count": 15,
   "metadata": {},
   "outputs": [
    {
     "data": {
      "text/plain": [
       "dict_keys(['sin_flat', 'cos_sin'])"
      ]
     },
     "execution_count": 15,
     "metadata": {},
     "output_type": "execute_result"
    }
   ],
   "source": [
    "my_song.waves.keys()"
   ]
  },
  {
   "cell_type": "code",
   "execution_count": 16,
   "metadata": {},
   "outputs": [
    {
     "data": {
      "image/png": "[encoded data removed]",
      "text/plain": [
       "<Figure size 432x288 with 1 Axes>"
      ]
     },
     "metadata": {},
     "output_type": "display_data"
    }
   ],
   "source": [
    "samples_plot(my_song.waves['sin_flat'])"
   ]
  },
  {
   "cell_type": "code",
   "execution_count": 17,
   "metadata": {},
   "outputs": [
    {
     "data": {
      "image/png": "[encoded data removed]",
      "text/plain": [
       "<Figure size 432x288 with 1 Axes>"
      ]
     },
     "metadata": {},
     "output_type": "display_data"
    }
   ],
   "source": [
    "samples_plot(my_song.waves['cos_sin'])"
   ]
  },
  {
   "cell_type": "code",
   "execution_count": 4,
   "metadata": {},
   "outputs": [
    {
     "ename": "NameError",
     "evalue": "name 'samples_plot' is not defined",
     "output_type": "error",
     "traceback": [
      "\u001b[1;31m---------------------------------------------------------------------------\u001b[0m",
      "\u001b[1;31mNameError\u001b[0m                                 Traceback (most recent call last)",
      "\u001b[1;32m<ipython-input-4-b93110de346a>\u001b[0m in \u001b[0;36m<module>\u001b[1;34m\u001b[0m\n\u001b[0;32m      1\u001b[0m \u001b[0mbox_wave\u001b[0m \u001b[1;33m=\u001b[0m \u001b[1;32mlambda\u001b[0m \u001b[0mlevel\u001b[0m\u001b[1;33m,\u001b[0m \u001b[0mxs\u001b[0m\u001b[1;33m:\u001b[0m \u001b[1;33m(\u001b[0m\u001b[1;33m-\u001b[0m\u001b[1;36m1\u001b[0m \u001b[1;33m*\u001b[0m \u001b[0mlevel\u001b[0m \u001b[1;33m*\u001b[0m \u001b[0mnp\u001b[0m\u001b[1;33m.\u001b[0m\u001b[0marray\u001b[0m\u001b[1;33m(\u001b[0m\u001b[1;33m[\u001b[0m\u001b[0mint\u001b[0m\u001b[1;33m(\u001b[0m\u001b[0mx\u001b[0m \u001b[1;33m/\u001b[0m \u001b[1;33m(\u001b[0m\u001b[0mlen\u001b[0m\u001b[1;33m(\u001b[0m\u001b[0mxs\u001b[0m\u001b[1;33m)\u001b[0m \u001b[1;33m/\u001b[0m \u001b[1;36m1.5\u001b[0m\u001b[1;33m)\u001b[0m\u001b[1;33m)\u001b[0m \u001b[1;33m%\u001b[0m \u001b[1;36m2\u001b[0m \u001b[1;32mfor\u001b[0m \u001b[0mx\u001b[0m \u001b[1;32min\u001b[0m \u001b[0mxs\u001b[0m\u001b[1;33m]\u001b[0m\u001b[1;33m)\u001b[0m\u001b[1;33m)\u001b[0m \u001b[1;33m+\u001b[0m \u001b[0mlevel\u001b[0m\u001b[1;33m\u001b[0m\u001b[1;33m\u001b[0m\u001b[0m\n\u001b[0;32m      2\u001b[0m \u001b[1;33m\u001b[0m\u001b[0m\n\u001b[1;32m----> 3\u001b[1;33m \u001b[0msamples_plot\u001b[0m\u001b[1;33m(\u001b[0m\u001b[0mbox_wave\u001b[0m\u001b[1;33m(\u001b[0m\u001b[1;36m0.5\u001b[0m\u001b[1;33m,\u001b[0m \u001b[0mnp\u001b[0m\u001b[1;33m.\u001b[0m\u001b[0marray\u001b[0m\u001b[1;33m(\u001b[0m\u001b[0mrange\u001b[0m\u001b[1;33m(\u001b[0m\u001b[1;36m100\u001b[0m\u001b[1;33m)\u001b[0m\u001b[1;33m)\u001b[0m\u001b[1;33m)\u001b[0m\u001b[1;33m)\u001b[0m\u001b[1;33m\u001b[0m\u001b[1;33m\u001b[0m\u001b[0m\n\u001b[0m",
      "\u001b[1;31mNameError\u001b[0m: name 'samples_plot' is not defined"
     ]
    }
   ],
   "source": [
    "box_wave = lambda level, xs: (-1 * level * np.array([int(x / (len(xs) / 1.5)) % 2 for x in xs])) + level\n",
    "\n",
    "samples_plot(box_wave(0.5, np.array(range(100))))"
   ]
  },
  {
   "cell_type": "code",
   "execution_count": 31,
   "metadata": {},
   "outputs": [
    {
     "data": {
      "image/png": "[encoded data removed]",
      "text/plain": [
       "<Figure size 432x288 with 1 Axes>"
      ]
     },
     "metadata": {},
     "output_type": "display_data"
    }
   ],
   "source": [
    "xs = np.array(range(72))\n",
    "samples_plot([int(x % (len(xs) / 2)) for x in xs])"
   ]
  },
  {
   "cell_type": "code",
   "execution_count": 53,
   "metadata": {},
   "outputs": [
    {
     "data": {
      "image/png": "[encoded data removed]",
      "text/plain": [
       "<Figure size 432x288 with 1 Axes>"
      ]
     },
     "metadata": {},
     "output_type": "display_data"
    }
   ],
   "source": [
    "level = 0.65\n",
    "box = (-1 * level * np.array([int(x / (len(xs) / 2)) % 2 for x in xs])) + level\n",
    "samples_plot(box)"
   ]
  }
 ],
 "metadata": {
  "kernelspec": {
   "display_name": "Python 3",
   "language": "python",
   "name": "python3"
  },
  "language_info": {
   "codemirror_mode": {
    "name": "ipython",
    "version": 3
   },
   "file_extension": ".py",
   "mimetype": "text/x-python",
   "name": "python",
   "nbconvert_exporter": "python",
   "pygments_lexer": "ipython3",
   "version": "3.8.3"
  }
 },
 "nbformat": 4,
 "nbformat_minor": 4
}
